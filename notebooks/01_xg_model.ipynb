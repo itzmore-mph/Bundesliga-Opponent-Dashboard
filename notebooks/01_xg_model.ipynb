{
 "cells": [
  {
   "cell_type": "markdown",
   "id": "4062a109",
   "metadata": {},
   "source": [
    "# Baseline xG Model — La Liga 2017/18"
   ]
  },
  {
   "cell_type": "markdown",
   "id": "e8f829da",
   "metadata": {},
   "source": [
    "- Data: StatsBomb Open Data (competition_id=11, season_id=90)\n",
    "- Target: goal (0/1)\n",
    "- Features: distance, angle, is_head\n",
    "- Model: Logistic Regression (baseline), plus RF / XGB comparison\n",
    "- Eval: AUC, Brier score\n",
    "- Viz: shot map w/ predicted xG\n",
    "- Notes: penalties excluded (common xG convention)"
   ]
  },
  {
   "cell_type": "markdown",
   "id": "c20ff988",
   "metadata": {},
   "source": [
    "1) Initial Setup"
   ]
  },
  {
   "cell_type": "code",
   "execution_count": 4,
   "id": "325733e8",
   "metadata": {},
   "outputs": [],
   "source": [
    "# Imports\n",
    "import os, sys\n",
    "from pathlib import Path\n",
    "import numpy as np\n",
    "import pandas as pd\n",
    "import matplotlib.pyplot as plt\n",
    "\n",
    "from sklearn.model_selection import train_test_split\n",
    "from sklearn.linear_model import LogisticRegression\n",
    "from sklearn.metrics import roc_auc_score, brier_score_loss, roc_curve\n",
    "\n",
    "# make src importable\n",
    "repo_root = Path.cwd().parents[0] if Path.cwd().name == \"notebooks\" else Path.cwd()\n",
    "sys.path.append(str(repo_root / \"src\"))\n",
    "\n",
    "from statsbomb_utils import load_season_shots  # <- your utility\n",
    "\n",
    "# Plot defaults\n",
    "plt.rcParams[\"figure.figsize\"] = (6, 4)\n",
    "plt.rcParams[\"axes.grid\"] = True"
   ]
  },
  {
   "cell_type": "markdown",
   "id": "07ff2829",
   "metadata": {},
   "source": [
    "2) Load season shots"
   ]
  },
  {
   "cell_type": "code",
   "execution_count": 5,
   "id": "e392e737",
   "metadata": {},
   "outputs": [
    {
     "ename": "KeyError",
     "evalue": "'home_team.name'",
     "output_type": "error",
     "traceback": [
      "\u001b[31m---------------------------------------------------------------------------\u001b[39m",
      "\u001b[31mKeyError\u001b[39m                                  Traceback (most recent call last)",
      "\u001b[36mFile \u001b[39m\u001b[32m~\\AppData\\Local\\Packages\\PythonSoftwareFoundation.Python.3.13_qbz5n2kfra8p0\\LocalCache\\local-packages\\Python313\\site-packages\\pandas\\core\\indexes\\base.py:3805\u001b[39m, in \u001b[36mIndex.get_loc\u001b[39m\u001b[34m(self, key)\u001b[39m\n\u001b[32m   3804\u001b[39m \u001b[38;5;28;01mtry\u001b[39;00m:\n\u001b[32m-> \u001b[39m\u001b[32m3805\u001b[39m     \u001b[38;5;28;01mreturn\u001b[39;00m \u001b[38;5;28;43mself\u001b[39;49m\u001b[43m.\u001b[49m\u001b[43m_engine\u001b[49m\u001b[43m.\u001b[49m\u001b[43mget_loc\u001b[49m\u001b[43m(\u001b[49m\u001b[43mcasted_key\u001b[49m\u001b[43m)\u001b[49m\n\u001b[32m   3806\u001b[39m \u001b[38;5;28;01mexcept\u001b[39;00m \u001b[38;5;167;01mKeyError\u001b[39;00m \u001b[38;5;28;01mas\u001b[39;00m err:\n",
      "\u001b[36mFile \u001b[39m\u001b[32mindex.pyx:167\u001b[39m, in \u001b[36mpandas._libs.index.IndexEngine.get_loc\u001b[39m\u001b[34m()\u001b[39m\n",
      "\u001b[36mFile \u001b[39m\u001b[32mindex.pyx:196\u001b[39m, in \u001b[36mpandas._libs.index.IndexEngine.get_loc\u001b[39m\u001b[34m()\u001b[39m\n",
      "\u001b[36mFile \u001b[39m\u001b[32mpandas\\\\_libs\\\\hashtable_class_helper.pxi:7081\u001b[39m, in \u001b[36mpandas._libs.hashtable.PyObjectHashTable.get_item\u001b[39m\u001b[34m()\u001b[39m\n",
      "\u001b[36mFile \u001b[39m\u001b[32mpandas\\\\_libs\\\\hashtable_class_helper.pxi:7089\u001b[39m, in \u001b[36mpandas._libs.hashtable.PyObjectHashTable.get_item\u001b[39m\u001b[34m()\u001b[39m\n",
      "\u001b[31mKeyError\u001b[39m: 'home_team.name'",
      "\nThe above exception was the direct cause of the following exception:\n",
      "\u001b[31mKeyError\u001b[39m                                  Traceback (most recent call last)",
      "\u001b[36mCell\u001b[39m\u001b[36m \u001b[39m\u001b[32mIn[5]\u001b[39m\u001b[32m, line 2\u001b[39m\n\u001b[32m      1\u001b[39m BASE = \u001b[38;5;28mstr\u001b[39m(repo_root / \u001b[33m\"\u001b[39m\u001b[33mdata\u001b[39m\u001b[33m\"\u001b[39m / \u001b[33m\"\u001b[39m\u001b[33mstatsbomb\u001b[39m\u001b[33m\"\u001b[39m / \u001b[33m\"\u001b[39m\u001b[33mdata\u001b[39m\u001b[33m\"\u001b[39m)  \u001b[38;5;66;03m# cloned open-data\u001b[39;00m\n\u001b[32m----> \u001b[39m\u001b[32m2\u001b[39m shots = \u001b[43mload_season_shots\u001b[49m\u001b[43m(\u001b[49m\n\u001b[32m      3\u001b[39m \u001b[43m    \u001b[49m\u001b[43mbase_dir\u001b[49m\u001b[43m=\u001b[49m\u001b[43mBASE\u001b[49m\u001b[43m,\u001b[49m\n\u001b[32m      4\u001b[39m \u001b[43m    \u001b[49m\u001b[43mcompetition_id\u001b[49m\u001b[43m=\u001b[49m\u001b[32;43m11\u001b[39;49m\u001b[43m,\u001b[49m\u001b[43m     \u001b[49m\u001b[38;5;66;43;03m# La Liga\u001b[39;49;00m\n\u001b[32m      5\u001b[39m \u001b[43m    \u001b[49m\u001b[43mseason_id\u001b[49m\u001b[43m=\u001b[49m\u001b[32;43m90\u001b[39;49m\u001b[43m,\u001b[49m\u001b[43m          \u001b[49m\u001b[38;5;66;43;03m# 2017/2018\u001b[39;49;00m\n\u001b[32m      6\u001b[39m \u001b[43m    \u001b[49m\u001b[43mteam_name\u001b[49m\u001b[43m=\u001b[49m\u001b[38;5;28;43;01mNone\u001b[39;49;00m\u001b[43m,\u001b[49m\u001b[43m        \u001b[49m\u001b[38;5;66;43;03m# all teams; set \"Barcelona\" for team-only data\u001b[39;49;00m\n\u001b[32m      7\u001b[39m \u001b[43m    \u001b[49m\u001b[43minclude_penalties\u001b[49m\u001b[43m=\u001b[49m\u001b[38;5;28;43;01mFalse\u001b[39;49;00m\n\u001b[32m      8\u001b[39m \u001b[43m)\u001b[49m\n\u001b[32m      9\u001b[39m \u001b[38;5;28mprint\u001b[39m(\u001b[33m\"\u001b[39m\u001b[33mShots loaded:\u001b[39m\u001b[33m\"\u001b[39m, shots.shape)\n\u001b[32m     10\u001b[39m shots.head()\n",
      "\u001b[36mFile \u001b[39m\u001b[32mc:\\Users\\morhaaf\\Dev\\Git\\baseline-xg-model\\src\\statsbomb_utils.py:75\u001b[39m, in \u001b[36mload_season_shots\u001b[39m\u001b[34m(base_dir, competition_id, season_id, team_name, include_penalties)\u001b[39m\n\u001b[32m     72\u001b[39m \u001b[38;5;66;03m# who took the shot\u001b[39;00m\n\u001b[32m     73\u001b[39m shots[\u001b[33m\"\u001b[39m\u001b[33mshot_team\u001b[39m\u001b[33m\"\u001b[39m] = shots[\u001b[33m\"\u001b[39m\u001b[33mteam.name\u001b[39m\u001b[33m\"\u001b[39m]\n\u001b[32m     74\u001b[39m shots[\u001b[33m\"\u001b[39m\u001b[33mopponent_team\u001b[39m\u001b[33m\"\u001b[39m] = np.where(\n\u001b[32m---> \u001b[39m\u001b[32m75\u001b[39m     shots[\u001b[33m\"\u001b[39m\u001b[33mshot_team\u001b[39m\u001b[33m\"\u001b[39m] == \u001b[43mdf\u001b[49m\u001b[43m[\u001b[49m\u001b[33;43m\"\u001b[39;49m\u001b[33;43mhome_team.name\u001b[39;49m\u001b[33;43m\"\u001b[39;49m\u001b[43m]\u001b[49m.iloc[\u001b[32m0\u001b[39m],\n\u001b[32m     76\u001b[39m     df[\u001b[33m\"\u001b[39m\u001b[33maway_team.name\u001b[39m\u001b[33m\"\u001b[39m].iloc[\u001b[32m0\u001b[39m],\n\u001b[32m     77\u001b[39m     df[\u001b[33m\"\u001b[39m\u001b[33mhome_team.name\u001b[39m\u001b[33m\"\u001b[39m].iloc[\u001b[32m0\u001b[39m],\n\u001b[32m     78\u001b[39m )\n\u001b[32m     79\u001b[39m shots[\u001b[33m\"\u001b[39m\u001b[33mmatch_id\u001b[39m\u001b[33m\"\u001b[39m] = mid\n\u001b[32m     81\u001b[39m keep_cols = [\n\u001b[32m     82\u001b[39m     \u001b[33m\"\u001b[39m\u001b[33mmatch_id\u001b[39m\u001b[33m\"\u001b[39m,\u001b[33m\"\u001b[39m\u001b[33mshot_team\u001b[39m\u001b[33m\"\u001b[39m,\u001b[33m\"\u001b[39m\u001b[33mopponent_team\u001b[39m\u001b[33m\"\u001b[39m,\u001b[33m\"\u001b[39m\u001b[33mplayer.name\u001b[39m\u001b[33m\"\u001b[39m,\n\u001b[32m     83\u001b[39m     \u001b[33m\"\u001b[39m\u001b[33mx\u001b[39m\u001b[33m\"\u001b[39m,\u001b[33m\"\u001b[39m\u001b[33my\u001b[39m\u001b[33m\"\u001b[39m,\u001b[33m\"\u001b[39m\u001b[33mdistance\u001b[39m\u001b[33m\"\u001b[39m,\u001b[33m\"\u001b[39m\u001b[33mangle\u001b[39m\u001b[33m\"\u001b[39m,\u001b[33m\"\u001b[39m\u001b[33mis_head\u001b[39m\u001b[33m\"\u001b[39m,\u001b[33m\"\u001b[39m\u001b[33mgoal\u001b[39m\u001b[33m\"\u001b[39m,\n\u001b[32m     84\u001b[39m     \u001b[33m\"\u001b[39m\u001b[33mshot.type.name\u001b[39m\u001b[33m\"\u001b[39m,\u001b[33m\"\u001b[39m\u001b[33mshot.technique.name\u001b[39m\u001b[33m\"\u001b[39m,\u001b[33m\"\u001b[39m\u001b[33mminute\u001b[39m\u001b[33m\"\u001b[39m,\u001b[33m\"\u001b[39m\u001b[33msecond\u001b[39m\u001b[33m\"\u001b[39m\n\u001b[32m     85\u001b[39m ]\n",
      "\u001b[36mFile \u001b[39m\u001b[32m~\\AppData\\Local\\Packages\\PythonSoftwareFoundation.Python.3.13_qbz5n2kfra8p0\\LocalCache\\local-packages\\Python313\\site-packages\\pandas\\core\\frame.py:4102\u001b[39m, in \u001b[36mDataFrame.__getitem__\u001b[39m\u001b[34m(self, key)\u001b[39m\n\u001b[32m   4100\u001b[39m \u001b[38;5;28;01mif\u001b[39;00m \u001b[38;5;28mself\u001b[39m.columns.nlevels > \u001b[32m1\u001b[39m:\n\u001b[32m   4101\u001b[39m     \u001b[38;5;28;01mreturn\u001b[39;00m \u001b[38;5;28mself\u001b[39m._getitem_multilevel(key)\n\u001b[32m-> \u001b[39m\u001b[32m4102\u001b[39m indexer = \u001b[38;5;28;43mself\u001b[39;49m\u001b[43m.\u001b[49m\u001b[43mcolumns\u001b[49m\u001b[43m.\u001b[49m\u001b[43mget_loc\u001b[49m\u001b[43m(\u001b[49m\u001b[43mkey\u001b[49m\u001b[43m)\u001b[49m\n\u001b[32m   4103\u001b[39m \u001b[38;5;28;01mif\u001b[39;00m is_integer(indexer):\n\u001b[32m   4104\u001b[39m     indexer = [indexer]\n",
      "\u001b[36mFile \u001b[39m\u001b[32m~\\AppData\\Local\\Packages\\PythonSoftwareFoundation.Python.3.13_qbz5n2kfra8p0\\LocalCache\\local-packages\\Python313\\site-packages\\pandas\\core\\indexes\\base.py:3812\u001b[39m, in \u001b[36mIndex.get_loc\u001b[39m\u001b[34m(self, key)\u001b[39m\n\u001b[32m   3807\u001b[39m     \u001b[38;5;28;01mif\u001b[39;00m \u001b[38;5;28misinstance\u001b[39m(casted_key, \u001b[38;5;28mslice\u001b[39m) \u001b[38;5;129;01mor\u001b[39;00m (\n\u001b[32m   3808\u001b[39m         \u001b[38;5;28misinstance\u001b[39m(casted_key, abc.Iterable)\n\u001b[32m   3809\u001b[39m         \u001b[38;5;129;01mand\u001b[39;00m \u001b[38;5;28many\u001b[39m(\u001b[38;5;28misinstance\u001b[39m(x, \u001b[38;5;28mslice\u001b[39m) \u001b[38;5;28;01mfor\u001b[39;00m x \u001b[38;5;129;01min\u001b[39;00m casted_key)\n\u001b[32m   3810\u001b[39m     ):\n\u001b[32m   3811\u001b[39m         \u001b[38;5;28;01mraise\u001b[39;00m InvalidIndexError(key)\n\u001b[32m-> \u001b[39m\u001b[32m3812\u001b[39m     \u001b[38;5;28;01mraise\u001b[39;00m \u001b[38;5;167;01mKeyError\u001b[39;00m(key) \u001b[38;5;28;01mfrom\u001b[39;00m\u001b[38;5;250m \u001b[39m\u001b[34;01merr\u001b[39;00m\n\u001b[32m   3813\u001b[39m \u001b[38;5;28;01mexcept\u001b[39;00m \u001b[38;5;167;01mTypeError\u001b[39;00m:\n\u001b[32m   3814\u001b[39m     \u001b[38;5;66;03m# If we have a listlike key, _check_indexing_error will raise\u001b[39;00m\n\u001b[32m   3815\u001b[39m     \u001b[38;5;66;03m#  InvalidIndexError. Otherwise we fall through and re-raise\u001b[39;00m\n\u001b[32m   3816\u001b[39m     \u001b[38;5;66;03m#  the TypeError.\u001b[39;00m\n\u001b[32m   3817\u001b[39m     \u001b[38;5;28mself\u001b[39m._check_indexing_error(key)\n",
      "\u001b[31mKeyError\u001b[39m: 'home_team.name'"
     ]
    }
   ],
   "source": [
    "BASE = str(repo_root / \"data\" / \"statsbomb\" / \"data\")  # cloned open-data\n",
    "shots = load_season_shots(\n",
    "    base_dir=BASE,\n",
    "    competition_id=11,     # La Liga\n",
    "    season_id=90,          # 2017/2018\n",
    "    team_name=None,        # all teams; set \"Barcelona\" for team-only data\n",
    "    include_penalties=False\n",
    ")\n",
    "print(\"Shots loaded:\", shots.shape)\n",
    "shots.head()\n"
   ]
  },
  {
   "cell_type": "markdown",
   "id": "0ab77f9a",
   "metadata": {},
   "source": [
    "3) Quick sanity checks"
   ]
  },
  {
   "cell_type": "code",
   "execution_count": null,
   "id": "6904cd99",
   "metadata": {},
   "outputs": [],
   "source": [
    "print(\"Goal rate:\", shots[\"goal\"].mean().round(3))\n",
    "print(\"Header share:\", shots[\"is_head\"].mean().round(3))\n",
    "shots[[\"distance\", \"angle\"]].describe()\n",
    "\n",
    "# %%\n",
    "# (Optional) tiny exploration plots\n",
    "plt.scatter(shots[\"distance\"], shots[\"goal\"], alpha=0.05)\n",
    "plt.xlabel(\"Distance to goal (SB units)\"); plt.ylabel(\"Goal (0/1)\")\n",
    "plt.title(\"Distance vs Goal\"); plt.show()\n",
    "\n",
    "plt.scatter(shots[\"angle\"], shots[\"goal\"], alpha=0.05)\n",
    "plt.xlabel(\"Angle (radians approx.)\"); plt.ylabel(\"Goal (0/1)\")\n",
    "plt.title(\"Angle vs Goal\"); plt.show()\n"
   ]
  },
  {
   "cell_type": "markdown",
   "id": "e2ba81e1",
   "metadata": {},
   "source": [
    "4) Train / test split & baseline Logistic Regression"
   ]
  },
  {
   "cell_type": "code",
   "execution_count": null,
   "id": "2d6ffd17",
   "metadata": {},
   "outputs": [],
   "source": [
    "FEATURES = [\"distance\", \"angle\", \"is_head\"]\n",
    "X = shots[FEATURES].copy()\n",
    "y = shots[\"goal\"].astype(int)\n",
    "\n",
    "X_train, X_test, y_train, y_test = train_test_split(\n",
    "    X, y, test_size=0.20, random_state=42, stratify=y\n",
    ")\n",
    "\n",
    "logit = LogisticRegression(max_iter=2000)\n",
    "logit.fit(X_train, y_train)\n",
    "y_pred = logit.predict_proba(X_test)[:, 1]\n",
    "\n",
    "auc = roc_auc_score(y_test, y_pred)\n",
    "brier = brier_score_loss(y_test, y_pred)\n",
    "print(f\"Logistic Regression  AUC={auc:.3f}  Brier={brier:.3f}\")"
   ]
  },
  {
   "cell_type": "markdown",
   "id": "c9d9ccf8",
   "metadata": {},
   "source": [
    "5) ROC curve"
   ]
  },
  {
   "cell_type": "code",
   "execution_count": null,
   "id": "324ba537",
   "metadata": {},
   "outputs": [],
   "source": [
    "fpr, tpr, _ = roc_curve(y_test, y_pred)\n",
    "plt.figure(figsize=(5,5))\n",
    "plt.plot(fpr, tpr, label=f\"Logit AUC={auc:.3f}\")\n",
    "plt.plot([0,1],[0,1],\"--\",lw=1,color=\"gray\")\n",
    "plt.xlabel(\"False Positive Rate\"); plt.ylabel(\"True Positive Rate\")\n",
    "plt.title(\"ROC Curve\")\n",
    "plt.legend(); plt.show()"
   ]
  },
  {
   "cell_type": "markdown",
   "id": "215bda4f",
   "metadata": {},
   "source": [
    "6) Shot map with predicted xG (simple scatter on SB coordinates)"
   ]
  },
  {
   "cell_type": "code",
   "execution_count": null,
   "id": "1657445f",
   "metadata": {},
   "outputs": [],
   "source": [
    "shots[\"_pred_xg\"] = logit.predict_proba(shots[FEATURES])[:, 1]\n",
    "\n",
    "fig, ax = plt.subplots(figsize=(10, 6))\n",
    "sc = ax.scatter(shots[\"x\"], shots[\"y\"], c=shots[\"_pred_xg\"], s=12, alpha=0.85)\n",
    "ax.invert_yaxis()\n",
    "plt.colorbar(sc, label=\"Predicted xG\")\n",
    "ax.set_xlabel(\"x (0 → 120)\"); ax.set_ylabel(\"y (0 → 80)\")\n",
    "ax.set_title(\"Shot map – Predicted xG (Logistic Regression)\")\n",
    "plt.show()"
   ]
  },
  {
   "cell_type": "markdown",
   "id": "d5165aea",
   "metadata": {},
   "source": [
    "7) Stretch: model comparison (RF & XGB)"
   ]
  },
  {
   "cell_type": "code",
   "execution_count": null,
   "id": "7938b7ed",
   "metadata": {},
   "outputs": [],
   "source": [
    "try:\n",
    "    from sklearn.ensemble import RandomForestClassifier, GradientBoostingClassifier\n",
    "    from xgboost import XGBClassifier\n",
    "    models = {\n",
    "        \"Logistic\": LogisticRegression(max_iter=2000),\n",
    "        \"RandomForest\": RandomForestClassifier(\n",
    "            n_estimators=400, max_depth=None, random_state=42, n_jobs=-1\n",
    "        ),\n",
    "        \"XGBoost\": XGBClassifier(\n",
    "            n_estimators=500, learning_rate=0.05, max_depth=4,\n",
    "            subsample=0.8, colsample_bytree=0.8, eval_metric=\"logloss\",\n",
    "            tree_method=\"hist\", n_jobs=-1\n",
    "        )\n",
    "    }\n",
    "    rows = []\n",
    "    for name, m in models.items():\n",
    "        m.fit(X_train, y_train)\n",
    "        p = m.predict_proba(X_test)[:, 1]\n",
    "        rows.append({\"model\": name,\n",
    "                     \"AUC\": roc_auc_score(y_test, p),\n",
    "                     \"Brier\": brier_score_loss(y_test, p)})\n",
    "    cmp_df = pd.DataFrame(rows).sort_values(\"AUC\", ascending=False)\n",
    "    cmp_df\n",
    "except Exception as e:\n",
    "    print(\"Skipped model comparison (install xgboost to enable). Error:\", e)"
   ]
  },
  {
   "cell_type": "markdown",
   "id": "22373a11",
   "metadata": {},
   "source": [
    "8) Coefficients"
   ]
  },
  {
   "cell_type": "code",
   "execution_count": null,
   "id": "e1aa7c27",
   "metadata": {},
   "outputs": [],
   "source": [
    "coef = pd.Series(logit.coef_[0], index=FEATURES).sort_values(ascending=False)\n",
    "print(\"Logit coefficients:\\n\", coef)\n",
    "coef.plot(kind=\"bar\"); plt.title(\"Logistic Regression Coefficients\"); plt.show()\n",
    "\n",
    "# 8) Save minimal artifacts\n",
    "out_dir = repo_root / \"reports\" / \"figures\"\n",
    "out_dir.mkdir(parents=True, exist_ok=True)\n",
    "\n",
    "# ROC image\n",
    "plt.figure(figsize=(5,5))\n",
    "plt.plot(fpr, tpr, label=f\"Logit AUC={auc:.3f}\")\n",
    "plt.plot([0,1],[0,1],\"--\",lw=1,color=\"gray\")\n",
    "plt.xlabel(\"FPR\"); plt.ylabel(\"TPR\"); plt.title(\"ROC Curve\")\n",
    "plt.legend()\n",
    "plt.savefig(out_dir / \"roc_logit.png\", dpi=180, bbox_inches=\"tight\")\n",
    "plt.close()\n",
    "\n",
    "# Shot map image\n",
    "fig, ax = plt.subplots(figsize=(10, 6))\n",
    "sc = ax.scatter(shots[\"x\"], shots[\"y\"], c=shots[\"_pred_xg\"], s=12, alpha=0.85)\n",
    "ax.invert_yaxis()\n",
    "plt.colorbar(sc, label=\"Predicted xG\")\n",
    "ax.set_xlabel(\"x (0 → 120)\"); ax.set_ylabel(\"y (0 → 80)\")\n",
    "ax.set_title(\"Shot map – Predicted xG (Logistic Regression)\")\n",
    "plt.savefig(out_dir / \"shotmap_logit.png\", dpi=180, bbox_inches=\"tight\")\n",
    "plt.close()\n",
    "\n",
    "# Coefficients CSV\n",
    "coef.to_csv(repo_root / \"reports\" / \"logit_coefficients.csv\")"
   ]
  },
  {
   "cell_type": "markdown",
   "id": "8aec491c",
   "metadata": {},
   "source": [
    "9) TL;DR cell for README"
   ]
  },
  {
   "cell_type": "code",
   "execution_count": null,
   "id": "a1c0e623",
   "metadata": {},
   "outputs": [],
   "source": [
    "print(f\"\"\"\n",
    "Baseline xG – La Liga 2017/18 (penalties excluded)\n",
    "Features: {FEATURES}\n",
    "Logistic Regression → AUC {auc:.3f}, Brier {brier:.3f}\n",
    "Next: add contextual features (pressure, assist type, game state), \n",
    "      calibration curve, per-team/player season tables.\n",
    "\"\"\")"
   ]
  }
 ],
 "metadata": {
  "kernelspec": {
   "display_name": "Python 3",
   "language": "python",
   "name": "python3"
  },
  "language_info": {
   "codemirror_mode": {
    "name": "ipython",
    "version": 3
   },
   "file_extension": ".py",
   "mimetype": "text/x-python",
   "name": "python",
   "nbconvert_exporter": "python",
   "pygments_lexer": "ipython3",
   "version": "3.13.7"
  }
 },
 "nbformat": 4,
 "nbformat_minor": 5
}
